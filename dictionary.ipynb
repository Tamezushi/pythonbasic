{
 "cells": [
  {
   "cell_type": "code",
   "execution_count": 1,
   "id": "0da0e417-13c5-4602-b4ae-a88388a1c61a",
   "metadata": {
    "tags": []
   },
   "outputs": [],
   "source": [
    "d={}"
   ]
  },
  {
   "cell_type": "code",
   "execution_count": 2,
   "id": "fcf12c93-f448-4fea-8033-3bb73224f66e",
   "metadata": {},
   "outputs": [
    {
     "data": {
      "text/plain": [
       "dict"
      ]
     },
     "execution_count": 2,
     "metadata": {},
     "output_type": "execute_result"
    }
   ],
   "source": [
    "type(d)"
   ]
  },
  {
   "cell_type": "code",
   "execution_count": 3,
   "id": "324dd190-212a-47d2-957d-c2b19923b25f",
   "metadata": {},
   "outputs": [],
   "source": [
    "d1 = {'key' :\"sudh\"}"
   ]
  },
  {
   "cell_type": "code",
   "execution_count": 4,
   "id": "ff2e9fc9-449a-4641-ada9-593edbd17dc4",
   "metadata": {},
   "outputs": [
    {
     "data": {
      "text/plain": [
       "{'key': 'sudh'}"
      ]
     },
     "execution_count": 4,
     "metadata": {},
     "output_type": "execute_result"
    }
   ],
   "source": [
    "d1"
   ]
  },
  {
   "cell_type": "code",
   "execution_count": 5,
   "id": "9c23195d-c455-4ec4-9175-2c2899b475b7",
   "metadata": {},
   "outputs": [],
   "source": [
    "d2 ={\"name\": \"sudhamshu\",\"email\": \"ss@gmail.com\",\"number\":909602555 }"
   ]
  },
  {
   "cell_type": "code",
   "execution_count": 6,
   "id": "de87626f-4652-40af-a33f-8f7405640948",
   "metadata": {},
   "outputs": [
    {
     "data": {
      "text/plain": [
       "{'name': 'sudhamshu', 'email': 'ss@gmail.com', 'number': 909602555}"
      ]
     },
     "execution_count": 6,
     "metadata": {},
     "output_type": "execute_result"
    }
   ],
   "source": [
    "d2"
   ]
  },
  {
   "cell_type": "code",
   "execution_count": 7,
   "id": "2bdeb975-5e80-42cd-934a-f7313e9dda7c",
   "metadata": {},
   "outputs": [],
   "source": [
    "d3 = {234:\"sudh\",'_fdh':\"kumar\",True:25566}"
   ]
  },
  {
   "cell_type": "code",
   "execution_count": 8,
   "id": "8368b074-6ef5-4e8e-a02c-6bab68374280",
   "metadata": {},
   "outputs": [
    {
     "data": {
      "text/plain": [
       "{234: 'sudh', '_fdh': 'kumar', True: 25566}"
      ]
     },
     "execution_count": 8,
     "metadata": {},
     "output_type": "execute_result"
    }
   ],
   "source": [
    "d3"
   ]
  },
  {
   "cell_type": "code",
   "execution_count": 9,
   "id": "9df2d2be-9df1-40d9-9663-ab0c90b7a9d7",
   "metadata": {},
   "outputs": [
    {
     "data": {
      "text/plain": [
       "'sudh'"
      ]
     },
     "execution_count": 9,
     "metadata": {},
     "output_type": "execute_result"
    }
   ],
   "source": [
    "d3[234]"
   ]
  },
  {
   "cell_type": "code",
   "execution_count": 10,
   "id": "b9484903-c5cc-4192-8468-db7c1c18e9ad",
   "metadata": {},
   "outputs": [
    {
     "data": {
      "text/plain": [
       "25566"
      ]
     },
     "execution_count": 10,
     "metadata": {},
     "output_type": "execute_result"
    }
   ],
   "source": [
    "d3[True]"
   ]
  },
  {
   "cell_type": "code",
   "execution_count": 11,
   "id": "826d8755-c8a7-4d40-83d9-6d5c26e92494",
   "metadata": {},
   "outputs": [
    {
     "data": {
      "text/plain": [
       "25566"
      ]
     },
     "execution_count": 11,
     "metadata": {},
     "output_type": "execute_result"
    }
   ],
   "source": [
    "d3[1]"
   ]
  },
  {
   "cell_type": "code",
   "execution_count": 12,
   "id": "61e063d7-7165-4e1a-ab81-a53263a5e701",
   "metadata": {},
   "outputs": [],
   "source": [
    "d4 = {'name':\"sudh\",'mail-id': \"ss@gmail.com\",\"name\":\"sudhanshu\"}"
   ]
  },
  {
   "cell_type": "code",
   "execution_count": 13,
   "id": "f95dad1d-7a98-42f2-8741-bc2059ced408",
   "metadata": {},
   "outputs": [
    {
     "data": {
      "text/plain": [
       "'sudhanshu'"
      ]
     },
     "execution_count": 13,
     "metadata": {},
     "output_type": "execute_result"
    }
   ],
   "source": [
    "d4['name']"
   ]
  },
  {
   "cell_type": "code",
   "execution_count": 14,
   "id": "b6679c14-ba45-471f-92e1-7f218335f198",
   "metadata": {},
   "outputs": [],
   "source": [
    "d5 = {\"company\":\"pwskills\",\"course\":[\"web dev\",\"data science\",\"java with dsa systrm design\" ]}"
   ]
  },
  {
   "cell_type": "code",
   "execution_count": 15,
   "id": "013db4dd-a348-47dd-9670-ac8a89adc10a",
   "metadata": {},
   "outputs": [
    {
     "data": {
      "text/plain": [
       "{'company': 'pwskills',\n",
       " 'course': ['web dev', 'data science', 'java with dsa systrm design']}"
      ]
     },
     "execution_count": 15,
     "metadata": {},
     "output_type": "execute_result"
    }
   ],
   "source": [
    "d5"
   ]
  },
  {
   "cell_type": "code",
   "execution_count": 16,
   "id": "e2894f27-4886-4e8e-87c0-a5895ba29807",
   "metadata": {},
   "outputs": [
    {
     "data": {
      "text/plain": [
       "['web dev', 'data science', 'java with dsa systrm design']"
      ]
     },
     "execution_count": 16,
     "metadata": {},
     "output_type": "execute_result"
    }
   ],
   "source": [
    "d5['course']"
   ]
  },
  {
   "cell_type": "code",
   "execution_count": 17,
   "id": "3abe925a-c2c3-4273-a098-ae8a0bd77abf",
   "metadata": {},
   "outputs": [
    {
     "data": {
      "text/plain": [
       "'java with dsa systrm design'"
      ]
     },
     "execution_count": 17,
     "metadata": {},
     "output_type": "execute_result"
    }
   ],
   "source": [
    "d5['course'][-1]"
   ]
  },
  {
   "cell_type": "code",
   "execution_count": 18,
   "id": "ec13c813-3561-4ca2-bc0d-483a2c2a7f00",
   "metadata": {},
   "outputs": [],
   "source": [
    "d6 = {\"number\":[2,34,6,45,65,],\"assignment\":(1,2,3,4,5,6),\"launch_date\":{28,12,14},\"class_timing\":{\"web-dev\":8,\"data science masters\":8,\"java with dsa system design\":7}}"
   ]
  },
  {
   "cell_type": "code",
   "execution_count": 19,
   "id": "4c49a905-7d83-42d8-940b-c0507c5ea6a8",
   "metadata": {},
   "outputs": [
    {
     "data": {
      "text/plain": [
       "{'number': [2, 34, 6, 45, 65],\n",
       " 'assignment': (1, 2, 3, 4, 5, 6),\n",
       " 'launch_date': {12, 14, 28},\n",
       " 'class_timing': {'web-dev': 8,\n",
       "  'data science masters': 8,\n",
       "  'java with dsa system design': 7}}"
      ]
     },
     "execution_count": 19,
     "metadata": {},
     "output_type": "execute_result"
    }
   ],
   "source": [
    "d6"
   ]
  },
  {
   "cell_type": "code",
   "execution_count": 20,
   "id": "5e734e80-79cc-42c1-8df2-54bb640ae245",
   "metadata": {},
   "outputs": [
    {
     "data": {
      "text/plain": [
       "7"
      ]
     },
     "execution_count": 20,
     "metadata": {},
     "output_type": "execute_result"
    }
   ],
   "source": [
    "d6['class_timing']['java with dsa system design']"
   ]
  },
  {
   "cell_type": "code",
   "execution_count": 21,
   "id": "2d4d5c5f-dacc-4290-9427-fef0edc94491",
   "metadata": {},
   "outputs": [
    {
     "data": {
      "text/plain": [
       "{'number': [2, 34, 6, 45, 65],\n",
       " 'assignment': (1, 2, 3, 4, 5, 6),\n",
       " 'launch_date': {12, 14, 28},\n",
       " 'class_timing': {'web-dev': 8,\n",
       "  'data science masters': 8,\n",
       "  'java with dsa system design': 7}}"
      ]
     },
     "execution_count": 21,
     "metadata": {},
     "output_type": "execute_result"
    }
   ],
   "source": [
    "d6"
   ]
  },
  {
   "cell_type": "code",
   "execution_count": 22,
   "id": "5234f1db-cc62-4abc-9a7f-8d645eb941e6",
   "metadata": {},
   "outputs": [],
   "source": [
    "d6['mentor'] = [\"sudhanshu\",\"krish\",\"anurag\",\"jayder\"]"
   ]
  },
  {
   "cell_type": "code",
   "execution_count": 23,
   "id": "6b7cd78f-4d66-4b92-b5b7-80917d8a38bc",
   "metadata": {},
   "outputs": [
    {
     "data": {
      "text/plain": [
       "{'number': [2, 34, 6, 45, 65],\n",
       " 'assignment': (1, 2, 3, 4, 5, 6),\n",
       " 'launch_date': {12, 14, 28},\n",
       " 'class_timing': {'web-dev': 8,\n",
       "  'data science masters': 8,\n",
       "  'java with dsa system design': 7},\n",
       " 'mentor': ['sudhanshu', 'krish', 'anurag', 'jayder']}"
      ]
     },
     "execution_count": 23,
     "metadata": {},
     "output_type": "execute_result"
    }
   ],
   "source": [
    "d6"
   ]
  },
  {
   "cell_type": "code",
   "execution_count": 24,
   "id": "98924e8d-079f-4a25-af4b-e9cf8bf4e7cf",
   "metadata": {},
   "outputs": [],
   "source": [
    "del d6['number']"
   ]
  },
  {
   "cell_type": "code",
   "execution_count": 25,
   "id": "df361abc-f02a-4eaa-9773-32e4d61ce2e7",
   "metadata": {},
   "outputs": [
    {
     "data": {
      "text/plain": [
       "{'assignment': (1, 2, 3, 4, 5, 6),\n",
       " 'launch_date': {12, 14, 28},\n",
       " 'class_timing': {'web-dev': 8,\n",
       "  'data science masters': 8,\n",
       "  'java with dsa system design': 7},\n",
       " 'mentor': ['sudhanshu', 'krish', 'anurag', 'jayder']}"
      ]
     },
     "execution_count": 25,
     "metadata": {},
     "output_type": "execute_result"
    }
   ],
   "source": [
    "d6"
   ]
  },
  {
   "cell_type": "code",
   "execution_count": 26,
   "id": "c17fcb29-06fe-49c1-8117-d8231d638cd6",
   "metadata": {},
   "outputs": [
    {
     "data": {
      "text/plain": [
       "['assignment', 'launch_date', 'class_timing', 'mentor']"
      ]
     },
     "execution_count": 26,
     "metadata": {},
     "output_type": "execute_result"
    }
   ],
   "source": [
    "list(d6.keys())"
   ]
  },
  {
   "cell_type": "code",
   "execution_count": 27,
   "id": "967661a3-6af8-43ed-827e-bfdf45692dd6",
   "metadata": {},
   "outputs": [
    {
     "data": {
      "text/plain": [
       "[(1, 2, 3, 4, 5, 6),\n",
       " {12, 14, 28},\n",
       " {'web-dev': 8, 'data science masters': 8, 'java with dsa system design': 7},\n",
       " ['sudhanshu', 'krish', 'anurag', 'jayder']]"
      ]
     },
     "execution_count": 27,
     "metadata": {},
     "output_type": "execute_result"
    }
   ],
   "source": [
    "list(d6.values())"
   ]
  },
  {
   "cell_type": "code",
   "execution_count": 28,
   "id": "6303bbb5-4cf4-48f7-a187-069f88432a57",
   "metadata": {},
   "outputs": [
    {
     "data": {
      "text/plain": [
       "[('assignment', (1, 2, 3, 4, 5, 6)),\n",
       " ('launch_date', {12, 14, 28}),\n",
       " ('class_timing',\n",
       "  {'web-dev': 8, 'data science masters': 8, 'java with dsa system design': 7}),\n",
       " ('mentor', ['sudhanshu', 'krish', 'anurag', 'jayder'])]"
      ]
     },
     "execution_count": 28,
     "metadata": {},
     "output_type": "execute_result"
    }
   ],
   "source": [
    "list(d6.items())"
   ]
  },
  {
   "cell_type": "code",
   "execution_count": 29,
   "id": "10a26a6e-78c2-4c08-b9c3-7a6dc947edba",
   "metadata": {},
   "outputs": [
    {
     "data": {
      "text/plain": [
       "(1, 2, 3, 4, 5, 6)"
      ]
     },
     "execution_count": 29,
     "metadata": {},
     "output_type": "execute_result"
    }
   ],
   "source": [
    "d6.pop('assignment')"
   ]
  },
  {
   "cell_type": "code",
   "execution_count": 30,
   "id": "5d1850a4-e979-446e-9fec-cc7055ce1432",
   "metadata": {},
   "outputs": [
    {
     "data": {
      "text/plain": [
       "{'launch_date': {12, 14, 28},\n",
       " 'class_timing': {'web-dev': 8,\n",
       "  'data science masters': 8,\n",
       "  'java with dsa system design': 7},\n",
       " 'mentor': ['sudhanshu', 'krish', 'anurag', 'jayder']}"
      ]
     },
     "execution_count": 30,
     "metadata": {},
     "output_type": "execute_result"
    }
   ],
   "source": [
    "d6"
   ]
  },
  {
   "cell_type": "code",
   "execution_count": 40,
   "id": "1fec6e26-8555-4894-9140-88ca3b8c1bf2",
   "metadata": {},
   "outputs": [
    {
     "name": "stdin",
     "output_type": "stream",
     "text": [
      " enter your marks 55\n"
     ]
    },
    {
     "name": "stdout",
     "output_type": "stream",
     "text": [
      " you will be a part of A2 batch\n"
     ]
    }
   ],
   "source": [
    "marks = int(input (\" enter your marks\"))\n",
    "if marks >= 80:\n",
    "    print (\"you will be a part of A0 batch\")\n",
    "elif marks >= 60 and marks < 80:\n",
    "    print(\"you will be a part of A1 batch\")\n",
    "elif marks >= 40 and marks < 60:\n",
    "    print (\" you will be a part of A2 batch\")\n",
    "else :\n",
    "    print(\" you will bw a part of A3 batch\")\n",
    "        "
   ]
  },
  {
   "cell_type": "code",
   "execution_count": 66,
   "id": "1520cc85-b0a5-4f75-9145-e87cad5a432d",
   "metadata": {},
   "outputs": [
    {
     "data": {
      "text/plain": [
       "False"
      ]
     },
     "execution_count": 66,
     "metadata": {},
     "output_type": "execute_result"
    }
   ],
   "source": [
    "20>=80"
   ]
  },
  {
   "cell_type": "code",
   "execution_count": 37,
   "id": "5262dacd-7b1b-4ee3-969f-f1dbed99d1c7",
   "metadata": {},
   "outputs": [
    {
     "name": "stdin",
     "output_type": "stream",
     "text": [
      " enter your marks 324\n"
     ]
    }
   ],
   "source": [
    "marks = float(input (\" enter your marks\"))"
   ]
  },
  {
   "cell_type": "code",
   "execution_count": 38,
   "id": "dc9247fe-b502-4f39-b86c-d825572f0314",
   "metadata": {},
   "outputs": [
    {
     "data": {
      "text/plain": [
       "324.0"
      ]
     },
     "execution_count": 38,
     "metadata": {},
     "output_type": "execute_result"
    }
   ],
   "source": [
    "marks"
   ]
  },
  {
   "cell_type": "code",
   "execution_count": 39,
   "id": "d1bff0d3-d237-4f72-aa5e-5ce0f62f284a",
   "metadata": {},
   "outputs": [
    {
     "data": {
      "text/plain": [
       "float"
      ]
     },
     "execution_count": 39,
     "metadata": {},
     "output_type": "execute_result"
    }
   ],
   "source": [
    "type(marks)"
   ]
  },
  {
   "cell_type": "code",
   "execution_count": 41,
   "id": "c6dcdc60-2c0e-4635-ae82-fb069079d1f5",
   "metadata": {},
   "outputs": [
    {
     "name": "stdin",
     "output_type": "stream",
     "text": [
      "enter price 500\n"
     ]
    },
    {
     "name": "stdout",
     "output_type": "stream",
     "text": [
      "i will purchase\n"
     ]
    }
   ],
   "source": [
    "price = int(input(\"enter price\"))\n",
    "if price >1000:\n",
    "    print (\" i will not purchase\")\n",
    "else :\n",
    "    print(\"i will purchase\")"
   ]
  },
  {
   "cell_type": "code",
   "execution_count": 45,
   "id": "de6169d5-28bc-40e2-8602-7aa12ad6c264",
   "metadata": {},
   "outputs": [
    {
     "name": "stdin",
     "output_type": "stream",
     "text": [
      "enter price 600\n"
     ]
    }
   ],
   "source": [
    "price = int(input(\"enter price\"))\n",
    "if price >1000:\n",
    "    print (\" i will not purchase\")\n"
   ]
  },
  {
   "cell_type": "code",
   "execution_count": 50,
   "id": "d4b7f0f0-f3d0-49b6-945e-c4b881e405bf",
   "metadata": {},
   "outputs": [
    {
     "name": "stdin",
     "output_type": "stream",
     "text": [
      "enter price 6000\n"
     ]
    },
    {
     "name": "stdout",
     "output_type": "stream",
     "text": [
      " i will not purchase\n",
      " this is too much\n"
     ]
    }
   ],
   "source": [
    "price = int(input(\"enter price\"))\n",
    "if price >1000:\n",
    "    print (\" i will not purchase\")\n",
    "    if price >5000:\n",
    "        print (\" this is too much\")\n",
    "elif price <2000:\n",
    "            print(\" its ok \")\n",
    "elif price <1000:\n",
    "    print (\" i will purchase \")\n",
    "else:\n",
    "        print (\"not interested\")\n"
   ]
  },
  {
   "cell_type": "code",
   "execution_count": 55,
   "id": "4687d7f0-d759-4902-9cae-54867cfc3421",
   "metadata": {},
   "outputs": [],
   "source": [
    "l = [1,2,3,4,5,6,7,8,9]"
   ]
  },
  {
   "cell_type": "code",
   "execution_count": 56,
   "id": "1ff504df-1e4d-407a-b12a-018f353eb299",
   "metadata": {},
   "outputs": [
    {
     "data": {
      "text/plain": [
       "2"
      ]
     },
     "execution_count": 56,
     "metadata": {},
     "output_type": "execute_result"
    }
   ],
   "source": [
    "l[0]+1"
   ]
  },
  {
   "cell_type": "code",
   "execution_count": 57,
   "id": "76b02ee7-c5d2-4476-8cab-f98a9aecee35",
   "metadata": {},
   "outputs": [],
   "source": [
    "l1=[]"
   ]
  },
  {
   "cell_type": "code",
   "execution_count": 58,
   "id": "91e77553-01fd-4e98-85b5-c3b0074ecc8f",
   "metadata": {},
   "outputs": [],
   "source": [
    "l1.append(l[0]+1)"
   ]
  },
  {
   "cell_type": "code",
   "execution_count": 59,
   "id": "7fb330d9-fc1b-4d8a-9c64-3b5db5be958e",
   "metadata": {},
   "outputs": [
    {
     "data": {
      "text/plain": [
       "[2]"
      ]
     },
     "execution_count": 59,
     "metadata": {},
     "output_type": "execute_result"
    }
   ],
   "source": [
    "l1"
   ]
  },
  {
   "cell_type": "code",
   "execution_count": 60,
   "id": "5cabb949-64a4-4faa-b0a6-4a4e7d6f8048",
   "metadata": {},
   "outputs": [
    {
     "data": {
      "text/plain": [
       "[1, 2, 3, 4, 5, 6, 7, 8, 9]"
      ]
     },
     "execution_count": 60,
     "metadata": {},
     "output_type": "execute_result"
    }
   ],
   "source": [
    "l"
   ]
  },
  {
   "cell_type": "code",
   "execution_count": 61,
   "id": "a27b1454-3bdd-4df6-8a2d-db32e55e50e6",
   "metadata": {},
   "outputs": [
    {
     "name": "stdout",
     "output_type": "stream",
     "text": [
      "1\n",
      "2\n",
      "3\n",
      "4\n",
      "5\n",
      "6\n",
      "7\n",
      "8\n",
      "9\n"
     ]
    }
   ],
   "source": [
    "for i in l:\n",
    "    print (i)"
   ]
  },
  {
   "cell_type": "code",
   "execution_count": 62,
   "id": "10c99636-30f5-4542-8150-2a766e3a0edb",
   "metadata": {},
   "outputs": [
    {
     "name": "stdout",
     "output_type": "stream",
     "text": [
      "2\n",
      "3\n",
      "4\n",
      "5\n",
      "6\n",
      "7\n",
      "8\n",
      "9\n",
      "10\n"
     ]
    },
    {
     "data": {
      "text/plain": [
       "[2, 3, 4, 5, 6, 7, 8, 9, 10]"
      ]
     },
     "execution_count": 62,
     "metadata": {},
     "output_type": "execute_result"
    }
   ],
   "source": [
    "l1 =[]\n",
    "for i in l:\n",
    "    print(i+1)\n",
    "    l1.append(i+1)\n",
    "l1    \n",
    "    "
   ]
  },
  {
   "cell_type": "code",
   "execution_count": 63,
   "id": "9b4a0ab6-cafb-4500-a43f-e1276fc1b6de",
   "metadata": {},
   "outputs": [],
   "source": [
    "l = [\"sudh\",\"kumar\",\"pwskills\",\"course\"]"
   ]
  },
  {
   "cell_type": "code",
   "execution_count": 65,
   "id": "ac3ba2cb-a4a3-444f-8bc2-fcfbfc63f7a6",
   "metadata": {},
   "outputs": [
    {
     "name": "stdout",
     "output_type": "stream",
     "text": [
      "sudh\n",
      "kumar\n",
      "pwskills\n",
      "course\n"
     ]
    }
   ],
   "source": [
    "l1 = []\n",
    "for i in l:\n",
    "    print (i)\n",
    "    l1.append(i.upper())\n",
    "    "
   ]
  },
  {
   "cell_type": "code",
   "execution_count": 66,
   "id": "5d96de07-7cba-4330-a7ba-8d5c2d7175d4",
   "metadata": {},
   "outputs": [
    {
     "data": {
      "text/plain": [
       "['SUDH', 'KUMAR', 'PWSKILLS', 'COURSE']"
      ]
     },
     "execution_count": 66,
     "metadata": {},
     "output_type": "execute_result"
    }
   ],
   "source": [
    "l1"
   ]
  },
  {
   "cell_type": "code",
   "execution_count": 80,
   "id": "362967b5-b194-40f1-a68d-d2fd9482a274",
   "metadata": {},
   "outputs": [],
   "source": [
    "l =[1,2,3,4,4, \"sudh\" , \"kumar\" ,324,64.32,\"abc\"]"
   ]
  },
  {
   "cell_type": "code",
   "execution_count": 84,
   "id": "2dd28724-3137-438a-bc7c-93092f5a1caa",
   "metadata": {},
   "outputs": [],
   "source": [
    "l1=[]\n",
    "l2=[]\n",
    "for i in l:\n",
    "    if type (i) == int or type(i) == float:\n",
    "        l1.append(i)\n",
    "else :\n",
    "    l2.extend(i)"
   ]
  },
  {
   "cell_type": "code",
   "execution_count": 82,
   "id": "62585f6d-fdef-4c63-b0e4-c2298fa9730a",
   "metadata": {},
   "outputs": [
    {
     "data": {
      "text/plain": [
       "[1, 2, 3, 4, 4, 324, 64.32]"
      ]
     },
     "execution_count": 82,
     "metadata": {},
     "output_type": "execute_result"
    }
   ],
   "source": [
    "l1"
   ]
  },
  {
   "cell_type": "code",
   "execution_count": 83,
   "id": "cc6d3be3-e8f6-4781-b0fb-afd38067a768",
   "metadata": {},
   "outputs": [
    {
     "data": {
      "text/plain": [
       "['abc']"
      ]
     },
     "execution_count": 83,
     "metadata": {},
     "output_type": "execute_result"
    }
   ],
   "source": [
    "l2"
   ]
  },
  {
   "cell_type": "code",
   "execution_count": null,
   "id": "889ffaab-b1c9-4690-b8df-65a103fed5ab",
   "metadata": {},
   "outputs": [],
   "source": []
  }
 ],
 "metadata": {
  "kernelspec": {
   "display_name": "Python 3 (ipykernel)",
   "language": "python",
   "name": "python3"
  },
  "language_info": {
   "codemirror_mode": {
    "name": "ipython",
    "version": 3
   },
   "file_extension": ".py",
   "mimetype": "text/x-python",
   "name": "python",
   "nbconvert_exporter": "python",
   "pygments_lexer": "ipython3",
   "version": "3.10.8"
  },
  "toc-autonumbering": true,
  "toc-showcode": false,
  "toc-showtags": true
 },
 "nbformat": 4,
 "nbformat_minor": 5
}
