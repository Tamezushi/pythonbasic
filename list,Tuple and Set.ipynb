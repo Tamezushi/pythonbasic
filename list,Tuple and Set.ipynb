{
 "cells": [
  {
   "cell_type": "code",
   "execution_count": 123,
   "id": "51852e4b-23bb-46c2-8d04-765e6f679ac5",
   "metadata": {},
   "outputs": [],
   "source": [
    "l = [1,345,45,\"sudh\",True,5+7j,345.456]"
   ]
  },
  {
   "cell_type": "code",
   "execution_count": 124,
   "id": "75d2b615-9da3-4c64-a51e-aeca6cc8f02f",
   "metadata": {},
   "outputs": [
    {
     "data": {
      "text/plain": [
       "list"
      ]
     },
     "execution_count": 124,
     "metadata": {},
     "output_type": "execute_result"
    }
   ],
   "source": [
    "type(l)"
   ]
  },
  {
   "cell_type": "code",
   "execution_count": 125,
   "id": "2191d9c0-9216-4894-86be-f1bb494ea5ab",
   "metadata": {},
   "outputs": [
    {
     "data": {
      "text/plain": [
       "1"
      ]
     },
     "execution_count": 125,
     "metadata": {},
     "output_type": "execute_result"
    }
   ],
   "source": [
    "l[0]"
   ]
  },
  {
   "cell_type": "code",
   "execution_count": 126,
   "id": "79762595-0840-4b41-95ef-6937d61e602b",
   "metadata": {},
   "outputs": [
    {
     "data": {
      "text/plain": [
       "45"
      ]
     },
     "execution_count": 126,
     "metadata": {},
     "output_type": "execute_result"
    }
   ],
   "source": [
    "l[-5]"
   ]
  },
  {
   "cell_type": "code",
   "execution_count": 127,
   "id": "918154b5-02f5-49ba-89a0-9601fde99953",
   "metadata": {},
   "outputs": [
    {
     "data": {
      "text/plain": [
       "(5+7j)"
      ]
     },
     "execution_count": 127,
     "metadata": {},
     "output_type": "execute_result"
    }
   ],
   "source": [
    "l[5]"
   ]
  },
  {
   "cell_type": "code",
   "execution_count": 128,
   "id": "d902bffe-fe0b-45b3-94b4-eceb6d316288",
   "metadata": {},
   "outputs": [
    {
     "ename": "IndexError",
     "evalue": "list index out of range",
     "output_type": "error",
     "traceback": [
      "\u001b[0;31m---------------------------------------------------------------------------\u001b[0m",
      "\u001b[0;31mIndexError\u001b[0m                                Traceback (most recent call last)",
      "Cell \u001b[0;32mIn[128], line 1\u001b[0m\n\u001b[0;32m----> 1\u001b[0m \u001b[43ml\u001b[49m\u001b[43m[\u001b[49m\u001b[38;5;241;43m90\u001b[39;49m\u001b[43m]\u001b[49m\n",
      "\u001b[0;31mIndexError\u001b[0m: list index out of range"
     ]
    }
   ],
   "source": [
    "l[90]"
   ]
  },
  {
   "cell_type": "code",
   "execution_count": 129,
   "id": "299a50ff-2ada-44cc-a51e-2d296083e2b7",
   "metadata": {},
   "outputs": [
    {
     "data": {
      "text/plain": [
       "[1, 345, 45, 'sudh', True, (5+7j), 345.456]"
      ]
     },
     "execution_count": 129,
     "metadata": {},
     "output_type": "execute_result"
    }
   ],
   "source": [
    "l"
   ]
  },
  {
   "cell_type": "code",
   "execution_count": 130,
   "id": "8d539181-a45e-40a6-b166-9cda01dd8737",
   "metadata": {},
   "outputs": [
    {
     "data": {
      "text/plain": [
       "[1, 345, 45]"
      ]
     },
     "execution_count": 130,
     "metadata": {},
     "output_type": "execute_result"
    }
   ],
   "source": [
    "l[0:3]"
   ]
  },
  {
   "cell_type": "code",
   "execution_count": 131,
   "id": "5e9c9d3a-28e4-41c9-8a8e-af5481dde26a",
   "metadata": {},
   "outputs": [
    {
     "data": {
      "text/plain": [
       "345.456"
      ]
     },
     "execution_count": 131,
     "metadata": {},
     "output_type": "execute_result"
    }
   ],
   "source": [
    "l[-1]"
   ]
  },
  {
   "cell_type": "code",
   "execution_count": 132,
   "id": "c5edb709-b527-4380-b164-9414e6d54b8e",
   "metadata": {},
   "outputs": [
    {
     "data": {
      "text/plain": [
       "[345.456, (5+7j), True, 'sudh', 45, 345, 1]"
      ]
     },
     "execution_count": 132,
     "metadata": {},
     "output_type": "execute_result"
    }
   ],
   "source": [
    "l[::-1]"
   ]
  },
  {
   "cell_type": "code",
   "execution_count": 133,
   "id": "61db7a54-5972-4b9e-a983-8bebaa4679af",
   "metadata": {},
   "outputs": [
    {
     "data": {
      "text/plain": [
       "[1, 45, True, 345.456]"
      ]
     },
     "execution_count": 133,
     "metadata": {},
     "output_type": "execute_result"
    }
   ],
   "source": [
    "l[::2]"
   ]
  },
  {
   "cell_type": "code",
   "execution_count": 134,
   "id": "56340edf-7343-449d-8f63-78e2dc9374f1",
   "metadata": {},
   "outputs": [
    {
     "data": {
      "text/plain": [
       "[1, 345, 45, 'sudh', True, (5+7j), 345.456]"
      ]
     },
     "execution_count": 134,
     "metadata": {},
     "output_type": "execute_result"
    }
   ],
   "source": [
    "l"
   ]
  },
  {
   "cell_type": "code",
   "execution_count": 135,
   "id": "144674b2-8b88-4f2f-b722-78b6ec0308fc",
   "metadata": {},
   "outputs": [],
   "source": [
    "s=\"pwskills\""
   ]
  },
  {
   "cell_type": "code",
   "execution_count": 136,
   "id": "d93c1ac2-3250-45a1-a988-752174e37ee9",
   "metadata": {},
   "outputs": [
    {
     "ename": "TypeError",
     "evalue": "can only concatenate list (not \"str\") to list",
     "output_type": "error",
     "traceback": [
      "\u001b[0;31m---------------------------------------------------------------------------\u001b[0m",
      "\u001b[0;31mTypeError\u001b[0m                                 Traceback (most recent call last)",
      "Cell \u001b[0;32mIn[136], line 1\u001b[0m\n\u001b[0;32m----> 1\u001b[0m \u001b[43ml\u001b[49m\u001b[38;5;241;43m+\u001b[39;49m\u001b[43ms\u001b[49m\n",
      "\u001b[0;31mTypeError\u001b[0m: can only concatenate list (not \"str\") to list"
     ]
    }
   ],
   "source": [
    "l+s"
   ]
  },
  {
   "cell_type": "code",
   "execution_count": 137,
   "id": "8ec7ae3d-858a-4353-be96-03113c510776",
   "metadata": {},
   "outputs": [
    {
     "data": {
      "text/plain": [
       "['p',\n",
       " 'w',\n",
       " 's',\n",
       " 'k',\n",
       " 'i',\n",
       " 'l',\n",
       " 'l',\n",
       " 's',\n",
       " 1,\n",
       " 345,\n",
       " 45,\n",
       " 'sudh',\n",
       " True,\n",
       " (5+7j),\n",
       " 345.456]"
      ]
     },
     "execution_count": 137,
     "metadata": {},
     "output_type": "execute_result"
    }
   ],
   "source": [
    "list(s)+l"
   ]
  },
  {
   "cell_type": "code",
   "execution_count": 138,
   "id": "c96cf7d7-2a13-471a-af56-e39dcaf8e1c4",
   "metadata": {},
   "outputs": [
    {
     "data": {
      "text/plain": [
       "[1, 345, 45, 'sudh', True, (5+7j), 345.456]"
      ]
     },
     "execution_count": 138,
     "metadata": {},
     "output_type": "execute_result"
    }
   ],
   "source": [
    "l"
   ]
  },
  {
   "cell_type": "code",
   "execution_count": 139,
   "id": "f1dbbb48-5e27-4b22-88b3-097f63166023",
   "metadata": {},
   "outputs": [
    {
     "data": {
      "text/plain": [
       "'sudh'"
      ]
     },
     "execution_count": 139,
     "metadata": {},
     "output_type": "execute_result"
    }
   ],
   "source": [
    "l[3]"
   ]
  },
  {
   "cell_type": "code",
   "execution_count": 140,
   "id": "2f097681-5963-486b-9254-ba76ef7c28a2",
   "metadata": {},
   "outputs": [
    {
     "data": {
      "text/plain": [
       "'su'"
      ]
     },
     "execution_count": 140,
     "metadata": {},
     "output_type": "execute_result"
    }
   ],
   "source": [
    "l[3][0:2]"
   ]
  },
  {
   "cell_type": "code",
   "execution_count": 141,
   "id": "93d87e1f-c143-43d9-9ee9-595a7944b4e0",
   "metadata": {},
   "outputs": [
    {
     "ename": "TypeError",
     "evalue": "'bool' object is not subscriptable",
     "output_type": "error",
     "traceback": [
      "\u001b[0;31m---------------------------------------------------------------------------\u001b[0m",
      "\u001b[0;31mTypeError\u001b[0m                                 Traceback (most recent call last)",
      "Cell \u001b[0;32mIn[141], line 1\u001b[0m\n\u001b[0;32m----> 1\u001b[0m \u001b[43ml\u001b[49m\u001b[43m[\u001b[49m\u001b[38;5;241;43m4\u001b[39;49m\u001b[43m]\u001b[49m\u001b[43m[\u001b[49m\u001b[38;5;241;43m0\u001b[39;49m\u001b[43m:\u001b[49m\u001b[38;5;241;43m2\u001b[39;49m\u001b[43m]\u001b[49m\n",
      "\u001b[0;31mTypeError\u001b[0m: 'bool' object is not subscriptable"
     ]
    }
   ],
   "source": [
    "l[4][0:2]"
   ]
  },
  {
   "cell_type": "code",
   "execution_count": 142,
   "id": "c3e07c04-1f3e-4d0e-97bf-2b61c3409167",
   "metadata": {},
   "outputs": [
    {
     "data": {
      "text/plain": [
       "'Tr'"
      ]
     },
     "execution_count": 142,
     "metadata": {},
     "output_type": "execute_result"
    }
   ],
   "source": [
    "str(l[4])[0:2]"
   ]
  },
  {
   "cell_type": "code",
   "execution_count": 143,
   "id": "6359a0fc-8108-4a79-8595-3ed61f03739d",
   "metadata": {},
   "outputs": [
    {
     "ename": "TypeError",
     "evalue": "can only concatenate list (not \"int\") to list",
     "output_type": "error",
     "traceback": [
      "\u001b[0;31m---------------------------------------------------------------------------\u001b[0m",
      "\u001b[0;31mTypeError\u001b[0m                                 Traceback (most recent call last)",
      "Cell \u001b[0;32mIn[143], line 1\u001b[0m\n\u001b[0;32m----> 1\u001b[0m \u001b[43ml\u001b[49m\u001b[38;5;241;43m+\u001b[39;49m\u001b[38;5;241;43m5\u001b[39;49m\n",
      "\u001b[0;31mTypeError\u001b[0m: can only concatenate list (not \"int\") to list"
     ]
    }
   ],
   "source": [
    "l+5"
   ]
  },
  {
   "cell_type": "code",
   "execution_count": 144,
   "id": "5873ad74-28cd-4a48-940b-e7a7a362c154",
   "metadata": {},
   "outputs": [],
   "source": [
    "l1=[3,4,5]"
   ]
  },
  {
   "cell_type": "code",
   "execution_count": 145,
   "id": "e2568329-7e71-4596-95db-29094fa94f71",
   "metadata": {},
   "outputs": [
    {
     "data": {
      "text/plain": [
       "[1, 345, 45, 'sudh', True, (5+7j), 345.456, 3, 4, 5]"
      ]
     },
     "execution_count": 145,
     "metadata": {},
     "output_type": "execute_result"
    }
   ],
   "source": [
    "l+l1"
   ]
  },
  {
   "cell_type": "code",
   "execution_count": 146,
   "id": "44570f5d-78eb-4a56-8bff-fdf734cbc2eb",
   "metadata": {},
   "outputs": [
    {
     "data": {
      "text/plain": [
       "[3, 4, 5, 3, 4, 5, 3, 4, 5]"
      ]
     },
     "execution_count": 146,
     "metadata": {},
     "output_type": "execute_result"
    }
   ],
   "source": [
    "l1 * 3"
   ]
  },
  {
   "cell_type": "code",
   "execution_count": 147,
   "id": "dd4e27b7-fa67-4310-af42-0dd16b5a9dbd",
   "metadata": {},
   "outputs": [
    {
     "data": {
      "text/plain": [
       "[1, 345, 45, 'sudh', True, (5+7j), 345.456]"
      ]
     },
     "execution_count": 147,
     "metadata": {},
     "output_type": "execute_result"
    }
   ],
   "source": [
    "l"
   ]
  },
  {
   "cell_type": "code",
   "execution_count": 148,
   "id": "ee01a052-fe9e-4a83-9a7d-7c8c1dfade71",
   "metadata": {},
   "outputs": [
    {
     "data": {
      "text/plain": [
       "7"
      ]
     },
     "execution_count": 148,
     "metadata": {},
     "output_type": "execute_result"
    }
   ],
   "source": [
    "len(l)"
   ]
  },
  {
   "cell_type": "code",
   "execution_count": 149,
   "id": "709980be-ba7b-4131-9370-7e6d74b88a2b",
   "metadata": {},
   "outputs": [],
   "source": [
    "l.append(5)"
   ]
  },
  {
   "cell_type": "code",
   "execution_count": 150,
   "id": "9b761884-92a9-4daf-b7b1-31ac8028ef3f",
   "metadata": {},
   "outputs": [
    {
     "data": {
      "text/plain": [
       "[1, 345, 45, 'sudh', True, (5+7j), 345.456, 5]"
      ]
     },
     "execution_count": 150,
     "metadata": {},
     "output_type": "execute_result"
    }
   ],
   "source": [
    "l"
   ]
  },
  {
   "cell_type": "code",
   "execution_count": 151,
   "id": "48ec9bde-d5fa-4c2b-8317-9920d348bf7c",
   "metadata": {},
   "outputs": [],
   "source": [
    "l.append(s)"
   ]
  },
  {
   "cell_type": "code",
   "execution_count": 152,
   "id": "8970174b-ce8e-416b-8144-d114c347658c",
   "metadata": {},
   "outputs": [
    {
     "data": {
      "text/plain": [
       "[1, 345, 45, 'sudh', True, (5+7j), 345.456, 5, 'pwskills']"
      ]
     },
     "execution_count": 152,
     "metadata": {},
     "output_type": "execute_result"
    }
   ],
   "source": [
    "l"
   ]
  },
  {
   "cell_type": "code",
   "execution_count": 153,
   "id": "3ea05549-42b7-457c-bdd9-13fa289e25ef",
   "metadata": {},
   "outputs": [
    {
     "data": {
      "text/plain": [
       "[1, 345, 45, 'sudh', True, (5+7j), 345.456, 5, 'pwskills']"
      ]
     },
     "execution_count": 153,
     "metadata": {},
     "output_type": "execute_result"
    }
   ],
   "source": [
    "l"
   ]
  },
  {
   "cell_type": "code",
   "execution_count": 154,
   "id": "3404ba91-6cf5-44e9-92d5-0b5998149486",
   "metadata": {},
   "outputs": [
    {
     "data": {
      "text/plain": [
       "[3, 4, 5]"
      ]
     },
     "execution_count": 154,
     "metadata": {},
     "output_type": "execute_result"
    }
   ],
   "source": [
    "l1"
   ]
  },
  {
   "cell_type": "code",
   "execution_count": 155,
   "id": "e345bedd-6b83-4f3a-91d3-27fe8e1605fc",
   "metadata": {},
   "outputs": [],
   "source": [
    "l.append(l1)"
   ]
  },
  {
   "cell_type": "code",
   "execution_count": 156,
   "id": "87ba8118-9425-4a65-bdce-c610229fcead",
   "metadata": {},
   "outputs": [
    {
     "data": {
      "text/plain": [
       "[1, 345, 45, 'sudh', True, (5+7j), 345.456, 5, 'pwskills', [3, 4, 5]]"
      ]
     },
     "execution_count": 156,
     "metadata": {},
     "output_type": "execute_result"
    }
   ],
   "source": [
    "l"
   ]
  },
  {
   "cell_type": "code",
   "execution_count": 157,
   "id": "b9e1dfcb-a557-4621-9027-d7b2a8d69f27",
   "metadata": {},
   "outputs": [
    {
     "data": {
      "text/plain": [
       "4"
      ]
     },
     "execution_count": 157,
     "metadata": {},
     "output_type": "execute_result"
    }
   ],
   "source": [
    "l[-1][1]"
   ]
  },
  {
   "cell_type": "code",
   "execution_count": 158,
   "id": "18a891da-dbac-4ee4-8a8b-489748149816",
   "metadata": {},
   "outputs": [
    {
     "data": {
      "text/plain": [
       "[1, 345, 45, 'sudh', True, (5+7j), 345.456, 5, 'pwskills', [3, 4, 5]]"
      ]
     },
     "execution_count": 158,
     "metadata": {},
     "output_type": "execute_result"
    }
   ],
   "source": [
    "l"
   ]
  },
  {
   "cell_type": "code",
   "execution_count": 159,
   "id": "93441ad0-af68-43b5-9d3d-233dbd5c4b20",
   "metadata": {},
   "outputs": [
    {
     "ename": "TypeError",
     "evalue": "'int' object is not iterable",
     "output_type": "error",
     "traceback": [
      "\u001b[0;31m---------------------------------------------------------------------------\u001b[0m",
      "\u001b[0;31mTypeError\u001b[0m                                 Traceback (most recent call last)",
      "Cell \u001b[0;32mIn[159], line 1\u001b[0m\n\u001b[0;32m----> 1\u001b[0m \u001b[43ml\u001b[49m\u001b[38;5;241;43m.\u001b[39;49m\u001b[43mextend\u001b[49m\u001b[43m(\u001b[49m\u001b[38;5;241;43m4\u001b[39;49m\u001b[43m)\u001b[49m\n",
      "\u001b[0;31mTypeError\u001b[0m: 'int' object is not iterable"
     ]
    }
   ],
   "source": [
    "l.extend(4)"
   ]
  },
  {
   "cell_type": "code",
   "execution_count": 160,
   "id": "ef402138-5819-44d2-bc75-fa0ee936cef4",
   "metadata": {},
   "outputs": [],
   "source": [
    "l.extend(\"sudh\")"
   ]
  },
  {
   "cell_type": "code",
   "execution_count": 161,
   "id": "a743fe13-1281-4cf3-8577-10e5a4474e23",
   "metadata": {},
   "outputs": [
    {
     "data": {
      "text/plain": [
       "[1,\n",
       " 345,\n",
       " 45,\n",
       " 'sudh',\n",
       " True,\n",
       " (5+7j),\n",
       " 345.456,\n",
       " 5,\n",
       " 'pwskills',\n",
       " [3, 4, 5],\n",
       " 's',\n",
       " 'u',\n",
       " 'd',\n",
       " 'h']"
      ]
     },
     "execution_count": 161,
     "metadata": {},
     "output_type": "execute_result"
    }
   ],
   "source": [
    "l"
   ]
  },
  {
   "cell_type": "code",
   "execution_count": 162,
   "id": "9f1dbcb8-641e-4af5-afff-f337cac44449",
   "metadata": {},
   "outputs": [],
   "source": [
    "l.extend(l1)"
   ]
  },
  {
   "cell_type": "code",
   "execution_count": 163,
   "id": "5109020d-4faf-47d1-88d2-06051d624425",
   "metadata": {},
   "outputs": [
    {
     "data": {
      "text/plain": [
       "[1,\n",
       " 345,\n",
       " 45,\n",
       " 'sudh',\n",
       " True,\n",
       " (5+7j),\n",
       " 345.456,\n",
       " 5,\n",
       " 'pwskills',\n",
       " [3, 4, 5],\n",
       " 's',\n",
       " 'u',\n",
       " 'd',\n",
       " 'h',\n",
       " 3,\n",
       " 4,\n",
       " 5]"
      ]
     },
     "execution_count": 163,
     "metadata": {},
     "output_type": "execute_result"
    }
   ],
   "source": [
    "l"
   ]
  },
  {
   "cell_type": "code",
   "execution_count": 164,
   "id": "d0414329-5a83-4a30-8207-2ba887f5635f",
   "metadata": {},
   "outputs": [],
   "source": [
    "l.extend([3,4,5,])"
   ]
  },
  {
   "cell_type": "code",
   "execution_count": 165,
   "id": "831332d8-8f2a-4d0b-9396-d4d7f7b1e66c",
   "metadata": {},
   "outputs": [
    {
     "data": {
      "text/plain": [
       "[1,\n",
       " 345,\n",
       " 45,\n",
       " 'sudh',\n",
       " True,\n",
       " (5+7j),\n",
       " 345.456,\n",
       " 5,\n",
       " 'pwskills',\n",
       " [3, 4, 5],\n",
       " 's',\n",
       " 'u',\n",
       " 'd',\n",
       " 'h',\n",
       " 3,\n",
       " 4,\n",
       " 5,\n",
       " 3,\n",
       " 4,\n",
       " 5]"
      ]
     },
     "execution_count": 165,
     "metadata": {},
     "output_type": "execute_result"
    }
   ],
   "source": [
    "l"
   ]
  },
  {
   "cell_type": "code",
   "execution_count": 166,
   "id": "6f3f034a-0c5e-4c25-8259-f6a5fdbe1b9c",
   "metadata": {},
   "outputs": [
    {
     "data": {
      "text/plain": [
       "[3, 4, 5]"
      ]
     },
     "execution_count": 166,
     "metadata": {},
     "output_type": "execute_result"
    }
   ],
   "source": [
    "l1"
   ]
  },
  {
   "cell_type": "code",
   "execution_count": 167,
   "id": "e8de5219-fd72-4a21-a376-27335d993236",
   "metadata": {},
   "outputs": [],
   "source": [
    "l1.insert(2,[25,56,45])"
   ]
  },
  {
   "cell_type": "code",
   "execution_count": 168,
   "id": "3fe83830-ea4c-4502-9ccf-82badf657a83",
   "metadata": {},
   "outputs": [
    {
     "data": {
      "text/plain": [
       "[3, 4, [25, 56, 45], 5]"
      ]
     },
     "execution_count": 168,
     "metadata": {},
     "output_type": "execute_result"
    }
   ],
   "source": [
    "l1"
   ]
  },
  {
   "cell_type": "code",
   "execution_count": 169,
   "id": "521125e7-c9d4-4bb7-9310-4af14cb28442",
   "metadata": {},
   "outputs": [],
   "source": [
    "l1.insert(-1,45)"
   ]
  },
  {
   "cell_type": "code",
   "execution_count": 170,
   "id": "1a816916-fbb1-48e5-8268-953107c9726c",
   "metadata": {},
   "outputs": [
    {
     "data": {
      "text/plain": [
       "[3, 4, [25, 56, 45], 45, 5]"
      ]
     },
     "execution_count": 170,
     "metadata": {},
     "output_type": "execute_result"
    }
   ],
   "source": [
    "l1"
   ]
  },
  {
   "cell_type": "code",
   "execution_count": 171,
   "id": "d67f059a-6411-433e-826d-b6ee9601051b",
   "metadata": {},
   "outputs": [],
   "source": [
    "l1.insert(1,\"sudh\")"
   ]
  },
  {
   "cell_type": "code",
   "execution_count": 172,
   "id": "b9b8f47b-a402-48a2-ac62-334969d93fc0",
   "metadata": {},
   "outputs": [
    {
     "data": {
      "text/plain": [
       "[3, 'sudh', 4, [25, 56, 45], 45, 5]"
      ]
     },
     "execution_count": 172,
     "metadata": {},
     "output_type": "execute_result"
    }
   ],
   "source": [
    "l1"
   ]
  },
  {
   "cell_type": "code",
   "execution_count": 173,
   "id": "a6d4a1f5-7f0f-47e8-bd1f-44bb78361042",
   "metadata": {},
   "outputs": [],
   "source": [
    "l1.insert(0,22)"
   ]
  },
  {
   "cell_type": "code",
   "execution_count": 174,
   "id": "6a19641b-c0c5-4ca4-a9ef-02c25bf30c93",
   "metadata": {},
   "outputs": [
    {
     "data": {
      "text/plain": [
       "[22, 3, 'sudh', 4, [25, 56, 45], 45, 5]"
      ]
     },
     "execution_count": 174,
     "metadata": {},
     "output_type": "execute_result"
    }
   ],
   "source": [
    "l1"
   ]
  },
  {
   "cell_type": "code",
   "execution_count": 175,
   "id": "ee413e21-9afb-4ec5-94dd-e1deeb335292",
   "metadata": {},
   "outputs": [
    {
     "data": {
      "text/plain": [
       "5"
      ]
     },
     "execution_count": 175,
     "metadata": {},
     "output_type": "execute_result"
    }
   ],
   "source": [
    "l1.pop()"
   ]
  },
  {
   "cell_type": "code",
   "execution_count": 176,
   "id": "f774c6f7-92b9-4429-8398-bd0362a26e2e",
   "metadata": {},
   "outputs": [
    {
     "data": {
      "text/plain": [
       "[22, 3, 'sudh', 4, [25, 56, 45], 45]"
      ]
     },
     "execution_count": 176,
     "metadata": {},
     "output_type": "execute_result"
    }
   ],
   "source": [
    "l1"
   ]
  },
  {
   "cell_type": "code",
   "execution_count": 177,
   "id": "eb17713f-33a0-4385-950f-08642de856ba",
   "metadata": {},
   "outputs": [
    {
     "data": {
      "text/plain": [
       "45"
      ]
     },
     "execution_count": 177,
     "metadata": {},
     "output_type": "execute_result"
    }
   ],
   "source": [
    "l1.pop()"
   ]
  },
  {
   "cell_type": "code",
   "execution_count": 178,
   "id": "182ad00e-af81-483e-9936-15ec937aaf14",
   "metadata": {},
   "outputs": [
    {
     "data": {
      "text/plain": [
       "'sudh'"
      ]
     },
     "execution_count": 178,
     "metadata": {},
     "output_type": "execute_result"
    }
   ],
   "source": [
    "l1.pop(2)"
   ]
  },
  {
   "cell_type": "code",
   "execution_count": 179,
   "id": "ce38e618-70ea-437e-8066-75fedfce60a9",
   "metadata": {},
   "outputs": [
    {
     "data": {
      "text/plain": [
       "[22, 3, 4, [25, 56, 45]]"
      ]
     },
     "execution_count": 179,
     "metadata": {},
     "output_type": "execute_result"
    }
   ],
   "source": [
    "l1"
   ]
  },
  {
   "cell_type": "code",
   "execution_count": 180,
   "id": "f6a13863-8324-4f0c-bb2f-4ed15c6a26d3",
   "metadata": {},
   "outputs": [
    {
     "data": {
      "text/plain": [
       "[25, 56, 45]"
      ]
     },
     "execution_count": 180,
     "metadata": {},
     "output_type": "execute_result"
    }
   ],
   "source": [
    "l1.pop()"
   ]
  },
  {
   "cell_type": "code",
   "execution_count": 181,
   "id": "45cd7b0c-89de-4a50-b5f5-798a871b4ec3",
   "metadata": {},
   "outputs": [
    {
     "data": {
      "text/plain": [
       "[22, 3, 4]"
      ]
     },
     "execution_count": 181,
     "metadata": {},
     "output_type": "execute_result"
    }
   ],
   "source": [
    "l1"
   ]
  },
  {
   "cell_type": "code",
   "execution_count": 182,
   "id": "e1191dc0-a985-42bd-8648-ba218485f252",
   "metadata": {},
   "outputs": [],
   "source": [
    "l1.remove(3)"
   ]
  },
  {
   "cell_type": "code",
   "execution_count": 183,
   "id": "234ab068-7987-415b-8a8d-b99edf5274f5",
   "metadata": {},
   "outputs": [
    {
     "data": {
      "text/plain": [
       "[22, 4]"
      ]
     },
     "execution_count": 183,
     "metadata": {},
     "output_type": "execute_result"
    }
   ],
   "source": [
    "l1"
   ]
  },
  {
   "cell_type": "code",
   "execution_count": 184,
   "id": "4e05fb41-df33-4418-9d9b-f89f35263fd8",
   "metadata": {},
   "outputs": [],
   "source": [
    "l1.extend([2,3,5])"
   ]
  },
  {
   "cell_type": "code",
   "execution_count": 185,
   "id": "2b0224b2-c39a-4b02-b9fe-0a857f5703f4",
   "metadata": {},
   "outputs": [
    {
     "data": {
      "text/plain": [
       "[22, 4, 2, 3, 5]"
      ]
     },
     "execution_count": 185,
     "metadata": {},
     "output_type": "execute_result"
    }
   ],
   "source": [
    "l1"
   ]
  },
  {
   "cell_type": "code",
   "execution_count": 186,
   "id": "86842b18-3818-4a5f-bcc4-892c3349e7d4",
   "metadata": {},
   "outputs": [
    {
     "data": {
      "text/plain": [
       "[5, 3, 2, 4, 22]"
      ]
     },
     "execution_count": 186,
     "metadata": {},
     "output_type": "execute_result"
    }
   ],
   "source": [
    "l1[::-1]"
   ]
  },
  {
   "cell_type": "code",
   "execution_count": 187,
   "id": "c5c79706-d0fa-455e-85ff-e97329ea52f8",
   "metadata": {},
   "outputs": [],
   "source": [
    "l2=[55,96,\"utkarsh\",True,22.33]"
   ]
  },
  {
   "cell_type": "code",
   "execution_count": 188,
   "id": "c58f06ad-bc74-43b9-b514-d6f16a383dcf",
   "metadata": {},
   "outputs": [
    {
     "data": {
      "text/plain": [
       "[55, 96, 'utkarsh', True, 22.33]"
      ]
     },
     "execution_count": 188,
     "metadata": {},
     "output_type": "execute_result"
    }
   ],
   "source": [
    "l2"
   ]
  },
  {
   "cell_type": "code",
   "execution_count": 189,
   "id": "1ffe274c-c367-4029-a584-f55125600af1",
   "metadata": {},
   "outputs": [],
   "source": [
    "l1.extend(l2)"
   ]
  },
  {
   "cell_type": "code",
   "execution_count": 190,
   "id": "62f00846-3cf2-455f-b74c-e7d72bb430d1",
   "metadata": {},
   "outputs": [
    {
     "data": {
      "text/plain": [
       "[22, 4, 2, 3, 5, 55, 96, 'utkarsh', True, 22.33]"
      ]
     },
     "execution_count": 190,
     "metadata": {},
     "output_type": "execute_result"
    }
   ],
   "source": [
    "l1"
   ]
  },
  {
   "cell_type": "code",
   "execution_count": 191,
   "id": "9c8536e8-9988-4e81-bcf2-e7b126ad2bd3",
   "metadata": {},
   "outputs": [],
   "source": [
    "l1.insert(3,[3,99,55])"
   ]
  },
  {
   "cell_type": "code",
   "execution_count": 192,
   "id": "07f3e6bd-9f5c-43b6-a83b-54e762bc7844",
   "metadata": {},
   "outputs": [
    {
     "data": {
      "text/plain": [
       "[22, 4, 2, [3, 99, 55], 3, 5, 55, 96, 'utkarsh', True, 22.33]"
      ]
     },
     "execution_count": 192,
     "metadata": {},
     "output_type": "execute_result"
    }
   ],
   "source": [
    "l1"
   ]
  },
  {
   "cell_type": "code",
   "execution_count": 193,
   "id": "43429e84-1353-4f94-b9bd-a570480821c1",
   "metadata": {},
   "outputs": [
    {
     "ename": "ValueError",
     "evalue": "list.remove(x): x not in list",
     "output_type": "error",
     "traceback": [
      "\u001b[0;31m---------------------------------------------------------------------------\u001b[0m",
      "\u001b[0;31mValueError\u001b[0m                                Traceback (most recent call last)",
      "Cell \u001b[0;32mIn[193], line 1\u001b[0m\n\u001b[0;32m----> 1\u001b[0m \u001b[43ml1\u001b[49m\u001b[38;5;241;43m.\u001b[39;49m\u001b[43mremove\u001b[49m\u001b[43m(\u001b[49m\u001b[38;5;241;43m399\u001b[39;49m\u001b[43m)\u001b[49m\n",
      "\u001b[0;31mValueError\u001b[0m: list.remove(x): x not in list"
     ]
    }
   ],
   "source": [
    "l1.remove(399)"
   ]
  },
  {
   "cell_type": "code",
   "execution_count": 194,
   "id": "1feecece-3602-4dfe-a4dc-5d9e325ca56d",
   "metadata": {},
   "outputs": [],
   "source": [
    "l1[3].remove(3)"
   ]
  },
  {
   "cell_type": "code",
   "execution_count": 195,
   "id": "88560d6c-ad06-420e-a4a1-5ca70cd75a2a",
   "metadata": {},
   "outputs": [
    {
     "data": {
      "text/plain": [
       "[22, 4, 2, [99, 55], 3, 5, 55, 96, 'utkarsh', True, 22.33]"
      ]
     },
     "execution_count": 195,
     "metadata": {},
     "output_type": "execute_result"
    }
   ],
   "source": [
    "l1"
   ]
  },
  {
   "cell_type": "code",
   "execution_count": 196,
   "id": "ad758bcb-7067-4542-9057-f6d706e27bc5",
   "metadata": {},
   "outputs": [
    {
     "ename": "AttributeError",
     "evalue": "'bool' object has no attribute 'remove'",
     "output_type": "error",
     "traceback": [
      "\u001b[0;31m---------------------------------------------------------------------------\u001b[0m",
      "\u001b[0;31mAttributeError\u001b[0m                            Traceback (most recent call last)",
      "Cell \u001b[0;32mIn[196], line 1\u001b[0m\n\u001b[0;32m----> 1\u001b[0m \u001b[43ml1\u001b[49m\u001b[43m[\u001b[49m\u001b[38;5;241;43m9\u001b[39;49m\u001b[43m]\u001b[49m\u001b[38;5;241;43m.\u001b[39;49m\u001b[43mremove\u001b[49m(sh)\n",
      "\u001b[0;31mAttributeError\u001b[0m: 'bool' object has no attribute 'remove'"
     ]
    }
   ],
   "source": [
    "l1[9].remove(sh)"
   ]
  },
  {
   "cell_type": "code",
   "execution_count": 197,
   "id": "815c9b25-de11-4366-912e-d02a88478c24",
   "metadata": {},
   "outputs": [],
   "source": [
    "l1.append(22.33)"
   ]
  },
  {
   "cell_type": "code",
   "execution_count": 198,
   "id": "66334084-b671-40e1-b2ec-637c28b6871b",
   "metadata": {},
   "outputs": [
    {
     "data": {
      "text/plain": [
       "[22, 4, 2, [99, 55], 3, 5, 55, 96, 'utkarsh', True, 22.33, 22.33]"
      ]
     },
     "execution_count": 198,
     "metadata": {},
     "output_type": "execute_result"
    }
   ],
   "source": [
    "l1"
   ]
  },
  {
   "cell_type": "code",
   "execution_count": 199,
   "id": "2310a6cf-ba96-4aee-a507-9ff673d3a909",
   "metadata": {},
   "outputs": [],
   "source": [
    "l1.remove(22.33)"
   ]
  },
  {
   "cell_type": "code",
   "execution_count": 200,
   "id": "5eca04db-ccad-4de3-8a7e-0ccd44bd6548",
   "metadata": {},
   "outputs": [
    {
     "data": {
      "text/plain": [
       "[22, 4, 2, [99, 55], 3, 5, 55, 96, 'utkarsh', True, 22.33]"
      ]
     },
     "execution_count": 200,
     "metadata": {},
     "output_type": "execute_result"
    }
   ],
   "source": [
    "l1"
   ]
  },
  {
   "cell_type": "code",
   "execution_count": 201,
   "id": "37c5ed85-2326-440f-8da1-b31798533821",
   "metadata": {},
   "outputs": [
    {
     "data": {
      "text/plain": [
       "[22.33, True, 'utkarsh', 96, 55, 5, 3, [99, 55], 2, 4, 22]"
      ]
     },
     "execution_count": 201,
     "metadata": {},
     "output_type": "execute_result"
    }
   ],
   "source": [
    "l1[::-1]"
   ]
  },
  {
   "cell_type": "code",
   "execution_count": 202,
   "id": "b9222186-f882-4542-8ced-e5ca1e356bef",
   "metadata": {},
   "outputs": [],
   "source": [
    "l1.reverse()"
   ]
  },
  {
   "cell_type": "code",
   "execution_count": 203,
   "id": "1ebe5585-9fc6-4401-82f7-fda2f273a125",
   "metadata": {},
   "outputs": [
    {
     "data": {
      "text/plain": [
       "[22.33, True, 'utkarsh', 96, 55, 5, 3, [99, 55], 2, 4, 22]"
      ]
     },
     "execution_count": 203,
     "metadata": {},
     "output_type": "execute_result"
    }
   ],
   "source": [
    "l1"
   ]
  },
  {
   "cell_type": "code",
   "execution_count": 204,
   "id": "56e2dd1d-59a1-424c-bfa6-5c1017493a22",
   "metadata": {},
   "outputs": [
    {
     "data": {
      "text/plain": [
       "[22.33, True, 'utkarsh', 96, 55, 5, 3, [99, 55], 2, 4, 22]"
      ]
     },
     "execution_count": 204,
     "metadata": {},
     "output_type": "execute_result"
    }
   ],
   "source": [
    "l1"
   ]
  },
  {
   "cell_type": "code",
   "execution_count": 205,
   "id": "f876180b-e948-4365-9301-86bc595b6b55",
   "metadata": {},
   "outputs": [],
   "source": [
    "l1=l1[::-1]"
   ]
  },
  {
   "cell_type": "code",
   "execution_count": 206,
   "id": "ccde6dca-5885-4b11-bb7e-0353dedeb1e4",
   "metadata": {},
   "outputs": [
    {
     "data": {
      "text/plain": [
       "[22, 4, 2, [99, 55], 3, 5, 55, 96, 'utkarsh', True, 22.33]"
      ]
     },
     "execution_count": 206,
     "metadata": {},
     "output_type": "execute_result"
    }
   ],
   "source": [
    "l1"
   ]
  },
  {
   "cell_type": "code",
   "execution_count": 207,
   "id": "d44c3760-5e62-4c51-b30c-bee2a80f65c7",
   "metadata": {},
   "outputs": [
    {
     "ename": "TypeError",
     "evalue": "'<' not supported between instances of 'list' and 'int'",
     "output_type": "error",
     "traceback": [
      "\u001b[0;31m---------------------------------------------------------------------------\u001b[0m",
      "\u001b[0;31mTypeError\u001b[0m                                 Traceback (most recent call last)",
      "Cell \u001b[0;32mIn[207], line 1\u001b[0m\n\u001b[0;32m----> 1\u001b[0m \u001b[43ml1\u001b[49m\u001b[38;5;241;43m.\u001b[39;49m\u001b[43msort\u001b[49m\u001b[43m(\u001b[49m\u001b[43m)\u001b[49m\n",
      "\u001b[0;31mTypeError\u001b[0m: '<' not supported between instances of 'list' and 'int'"
     ]
    }
   ],
   "source": [
    "l1.sort()"
   ]
  },
  {
   "cell_type": "code",
   "execution_count": 208,
   "id": "02e622e7-b5f0-4d9d-aa3b-b0add1719835",
   "metadata": {},
   "outputs": [],
   "source": [
    "l3= [2,5,9,4,6,87,99,55,37,64,91,20]"
   ]
  },
  {
   "cell_type": "code",
   "execution_count": 209,
   "id": "b235cafb-fedb-4f55-b60b-aeadd81808a3",
   "metadata": {},
   "outputs": [],
   "source": [
    "l3.sort()"
   ]
  },
  {
   "cell_type": "code",
   "execution_count": 210,
   "id": "bce6bcbb-e317-4ce0-b6f2-f573b6de65cf",
   "metadata": {},
   "outputs": [
    {
     "data": {
      "text/plain": [
       "[2, 4, 5, 6, 9, 20, 37, 55, 64, 87, 91, 99]"
      ]
     },
     "execution_count": 210,
     "metadata": {},
     "output_type": "execute_result"
    }
   ],
   "source": [
    "l3"
   ]
  },
  {
   "cell_type": "code",
   "execution_count": 211,
   "id": "05be69cf-39fc-4ab7-8139-480c140edde9",
   "metadata": {},
   "outputs": [],
   "source": [
    "l4 = [\"sudh\",\"kumar\", \"pwskills\", \"data science\"]"
   ]
  },
  {
   "cell_type": "code",
   "execution_count": 212,
   "id": "4e374af3-6eac-4eed-94e5-e315f7ca8a33",
   "metadata": {},
   "outputs": [],
   "source": [
    "l4.sort(reverse=True)"
   ]
  },
  {
   "cell_type": "code",
   "execution_count": 213,
   "id": "c5eb85ac-e6b9-4f7f-bcef-24f214fffb22",
   "metadata": {},
   "outputs": [
    {
     "data": {
      "text/plain": [
       "['sudh', 'pwskills', 'kumar', 'data science']"
      ]
     },
     "execution_count": 213,
     "metadata": {},
     "output_type": "execute_result"
    }
   ],
   "source": [
    "l4"
   ]
  },
  {
   "cell_type": "code",
   "execution_count": 214,
   "id": "e3d0b217-356f-40b3-8631-32c8831d7d6d",
   "metadata": {},
   "outputs": [
    {
     "data": {
      "text/plain": [
       "0"
      ]
     },
     "execution_count": 214,
     "metadata": {},
     "output_type": "execute_result"
    }
   ],
   "source": [
    "l4.index(\"sudh\")"
   ]
  },
  {
   "cell_type": "code",
   "execution_count": 215,
   "id": "98df8fc7-376a-4c10-bc2d-35f133dfd852",
   "metadata": {},
   "outputs": [
    {
     "data": {
      "text/plain": [
       "1"
      ]
     },
     "execution_count": 215,
     "metadata": {},
     "output_type": "execute_result"
    }
   ],
   "source": [
    "l4.count(\"sudh\")"
   ]
  },
  {
   "cell_type": "code",
   "execution_count": 216,
   "id": "f064bcde-e365-4f7f-85d5-aed7d5f5b004",
   "metadata": {},
   "outputs": [],
   "source": [
    "s=\"sudh\""
   ]
  },
  {
   "cell_type": "code",
   "execution_count": 217,
   "id": "0cd347ab-3105-466a-94d6-66b267f76a8d",
   "metadata": {},
   "outputs": [],
   "source": [
    "l5=[3,4,5,6]"
   ]
  },
  {
   "cell_type": "code",
   "execution_count": 218,
   "id": "dc31a9ef-db1d-4334-8817-fadcf6f898ab",
   "metadata": {},
   "outputs": [
    {
     "ename": "TypeError",
     "evalue": "'str' object does not support item assignment",
     "output_type": "error",
     "traceback": [
      "\u001b[0;31m---------------------------------------------------------------------------\u001b[0m",
      "\u001b[0;31mTypeError\u001b[0m                                 Traceback (most recent call last)",
      "Cell \u001b[0;32mIn[218], line 1\u001b[0m\n\u001b[0;32m----> 1\u001b[0m \u001b[43ms\u001b[49m\u001b[43m[\u001b[49m\u001b[38;5;241;43m0\u001b[39;49m\u001b[43m]\u001b[49m\u001b[38;5;241m=\u001b[39m\u001b[38;5;124m'\u001b[39m\u001b[38;5;124ma\u001b[39m\u001b[38;5;124m'\u001b[39m\n",
      "\u001b[0;31mTypeError\u001b[0m: 'str' object does not support item assignment"
     ]
    }
   ],
   "source": [
    "s[0]='a'"
   ]
  },
  {
   "cell_type": "code",
   "execution_count": 219,
   "id": "a614c377-e0cb-43d3-8cf7-ec2833b483a7",
   "metadata": {},
   "outputs": [],
   "source": [
    "l5[0]=30"
   ]
  },
  {
   "cell_type": "code",
   "execution_count": 220,
   "id": "7a162f81-4746-4134-bae3-16ef4c568de8",
   "metadata": {},
   "outputs": [
    {
     "data": {
      "text/plain": [
       "[30, 4, 5, 6]"
      ]
     },
     "execution_count": 220,
     "metadata": {},
     "output_type": "execute_result"
    }
   ],
   "source": [
    "l5"
   ]
  },
  {
   "cell_type": "code",
   "execution_count": 221,
   "id": "497016a6-f4bc-4cc1-8fd5-ca1b8600110a",
   "metadata": {},
   "outputs": [
    {
     "data": {
      "text/plain": [
       "'audh'"
      ]
     },
     "execution_count": 221,
     "metadata": {},
     "output_type": "execute_result"
    }
   ],
   "source": [
    "s.replace('s','a')"
   ]
  },
  {
   "cell_type": "code",
   "execution_count": 222,
   "id": "1e04164f-9740-459f-9986-1c04f9e91092",
   "metadata": {},
   "outputs": [
    {
     "data": {
      "text/plain": [
       "'sudh'"
      ]
     },
     "execution_count": 222,
     "metadata": {},
     "output_type": "execute_result"
    }
   ],
   "source": [
    "s"
   ]
  },
  {
   "cell_type": "code",
   "execution_count": 223,
   "id": "6526a6f2-7f02-4c53-a1f3-e73a1b06ef04",
   "metadata": {},
   "outputs": [],
   "source": [
    "t=(2,3,4,5,6,\"sudh\",45.56,False,45+5j,[2,3,6])"
   ]
  },
  {
   "cell_type": "code",
   "execution_count": 224,
   "id": "fd10d810-c0d3-4365-94c4-790cd3002961",
   "metadata": {},
   "outputs": [
    {
     "data": {
      "text/plain": [
       "(2, 3, 4, 5, 6, 'sudh', 45.56, False, (45+5j), [2, 3, 6])"
      ]
     },
     "execution_count": 224,
     "metadata": {},
     "output_type": "execute_result"
    }
   ],
   "source": [
    "t"
   ]
  },
  {
   "cell_type": "code",
   "execution_count": 225,
   "id": "f82b3ca8-1cb3-44ac-9e24-746bf4a2b786",
   "metadata": {},
   "outputs": [
    {
     "data": {
      "text/plain": [
       "tuple"
      ]
     },
     "execution_count": 225,
     "metadata": {},
     "output_type": "execute_result"
    }
   ],
   "source": [
    "type(t)"
   ]
  },
  {
   "cell_type": "code",
   "execution_count": 226,
   "id": "8c834d74-70b4-4005-83af-888b09c6a3bc",
   "metadata": {},
   "outputs": [
    {
     "data": {
      "text/plain": [
       "10"
      ]
     },
     "execution_count": 226,
     "metadata": {},
     "output_type": "execute_result"
    }
   ],
   "source": [
    "len(t)"
   ]
  },
  {
   "cell_type": "code",
   "execution_count": 227,
   "id": "c8308827-0887-4b1e-ab99-6b06d6b5a503",
   "metadata": {},
   "outputs": [
    {
     "data": {
      "text/plain": [
       "2"
      ]
     },
     "execution_count": 227,
     "metadata": {},
     "output_type": "execute_result"
    }
   ],
   "source": [
    "t[0]"
   ]
  },
  {
   "cell_type": "code",
   "execution_count": 228,
   "id": "19b63b3a-f675-48e3-a161-de382c6b35db",
   "metadata": {},
   "outputs": [
    {
     "data": {
      "text/plain": [
       "[2, 3, 6]"
      ]
     },
     "execution_count": 228,
     "metadata": {},
     "output_type": "execute_result"
    }
   ],
   "source": [
    "t[-1]"
   ]
  },
  {
   "cell_type": "code",
   "execution_count": 229,
   "id": "7dea4716-2f49-43e2-b94b-e33deb54f80f",
   "metadata": {},
   "outputs": [
    {
     "data": {
      "text/plain": [
       "([2, 3, 6], (45+5j), False, 45.56, 'sudh', 6, 5, 4, 3, 2)"
      ]
     },
     "execution_count": 229,
     "metadata": {},
     "output_type": "execute_result"
    }
   ],
   "source": [
    "t[::-1]"
   ]
  },
  {
   "cell_type": "code",
   "execution_count": 230,
   "id": "6a62d4e2-dc44-44a5-b786-387f8f4267bf",
   "metadata": {},
   "outputs": [
    {
     "data": {
      "text/plain": [
       "[30, 4, 5, 6]"
      ]
     },
     "execution_count": 230,
     "metadata": {},
     "output_type": "execute_result"
    }
   ],
   "source": [
    "l5"
   ]
  },
  {
   "cell_type": "code",
   "execution_count": 233,
   "id": "21dcdf33-d982-41d9-9e4e-91b12b521c48",
   "metadata": {},
   "outputs": [
    {
     "data": {
      "text/plain": [
       "['sudh', 'pwskills', 'kumar', 'data science']"
      ]
     },
     "execution_count": 233,
     "metadata": {},
     "output_type": "execute_result"
    }
   ],
   "source": [
    "l4"
   ]
  },
  {
   "cell_type": "code",
   "execution_count": 234,
   "id": "5e0da22d-5d7d-4dd2-bdce-cebddefa47e6",
   "metadata": {},
   "outputs": [],
   "source": [
    "l4[0]=23424"
   ]
  },
  {
   "cell_type": "code",
   "execution_count": 235,
   "id": "f7f95b5b-04a2-4c4b-ba87-542a689661bc",
   "metadata": {},
   "outputs": [
    {
     "data": {
      "text/plain": [
       "[23424, 'pwskills', 'kumar', 'data science']"
      ]
     },
     "execution_count": 235,
     "metadata": {},
     "output_type": "execute_result"
    }
   ],
   "source": [
    "l4"
   ]
  },
  {
   "cell_type": "code",
   "execution_count": 236,
   "id": "3dae2a6d-edb2-4e04-b969-ca38b328bf13",
   "metadata": {},
   "outputs": [
    {
     "data": {
      "text/plain": [
       "(2, 3, 4, 5, 6, 'sudh', 45.56, False, (45+5j), [2, 3, 6])"
      ]
     },
     "execution_count": 236,
     "metadata": {},
     "output_type": "execute_result"
    }
   ],
   "source": [
    "t"
   ]
  },
  {
   "cell_type": "code",
   "execution_count": 237,
   "id": "7a3b0c1c-d4fd-497d-bef4-d4b0b0787cb6",
   "metadata": {},
   "outputs": [
    {
     "ename": "TypeError",
     "evalue": "'tuple' object does not support item assignment",
     "output_type": "error",
     "traceback": [
      "\u001b[0;31m---------------------------------------------------------------------------\u001b[0m",
      "\u001b[0;31mTypeError\u001b[0m                                 Traceback (most recent call last)",
      "Cell \u001b[0;32mIn[237], line 1\u001b[0m\n\u001b[0;32m----> 1\u001b[0m \u001b[43mt\u001b[49m\u001b[43m[\u001b[49m\u001b[38;5;241;43m0\u001b[39;49m\u001b[43m]\u001b[49m\u001b[38;5;241m=\u001b[39m\u001b[38;5;124m\"\u001b[39m\u001b[38;5;124msudh\u001b[39m\u001b[38;5;124m\"\u001b[39m\n",
      "\u001b[0;31mTypeError\u001b[0m: 'tuple' object does not support item assignment"
     ]
    }
   ],
   "source": [
    "t[0]=\"sudh\""
   ]
  },
  {
   "cell_type": "code",
   "execution_count": 239,
   "id": "690a7a18-c0db-479f-a725-8611a4b33b08",
   "metadata": {},
   "outputs": [
    {
     "data": {
      "text/plain": [
       "([2, 3, 6], (45+5j), False, 45.56, 'sudh', 6, 5, 4, 3, 2)"
      ]
     },
     "execution_count": 239,
     "metadata": {},
     "output_type": "execute_result"
    }
   ],
   "source": [
    "t[::-1]"
   ]
  },
  {
   "cell_type": "code",
   "execution_count": 241,
   "id": "4dcde52b-5a48-4ba2-a5dd-21884b703aea",
   "metadata": {},
   "outputs": [
    {
     "data": {
      "text/plain": [
       "1"
      ]
     },
     "execution_count": 241,
     "metadata": {},
     "output_type": "execute_result"
    }
   ],
   "source": [
    "t.count(3)"
   ]
  },
  {
   "cell_type": "code",
   "execution_count": 242,
   "id": "07b78057-bb1e-4c13-b508-0732e7875a59",
   "metadata": {},
   "outputs": [
    {
     "data": {
      "text/plain": [
       "7"
      ]
     },
     "execution_count": 242,
     "metadata": {},
     "output_type": "execute_result"
    }
   ],
   "source": [
    "t.index(False)"
   ]
  },
  {
   "cell_type": "code",
   "execution_count": 243,
   "id": "7bf365ed-b8e1-4b1a-b817-906c5f6cdc77",
   "metadata": {},
   "outputs": [],
   "source": [
    "s1={}"
   ]
  },
  {
   "cell_type": "code",
   "execution_count": 244,
   "id": "c1b101b4-9f7c-4c7f-ade1-aa1bd27b6892",
   "metadata": {},
   "outputs": [
    {
     "data": {
      "text/plain": [
       "dict"
      ]
     },
     "execution_count": 244,
     "metadata": {},
     "output_type": "execute_result"
    }
   ],
   "source": [
    "type(s1)"
   ]
  },
  {
   "cell_type": "code",
   "execution_count": 245,
   "id": "10a8d6f5-5392-4c0e-a42e-ff6a074f43c7",
   "metadata": {},
   "outputs": [],
   "source": [
    "s2={2,3,4,5,55}"
   ]
  },
  {
   "cell_type": "code",
   "execution_count": 246,
   "id": "46b7926a-46ad-4248-843e-fb6d78caf808",
   "metadata": {},
   "outputs": [
    {
     "data": {
      "text/plain": [
       "set"
      ]
     },
     "execution_count": 246,
     "metadata": {},
     "output_type": "execute_result"
    }
   ],
   "source": [
    "type(s2)"
   ]
  },
  {
   "cell_type": "code",
   "execution_count": 254,
   "id": "9364c5c2-f099-499a-acd1-dc193a26ef86",
   "metadata": {},
   "outputs": [],
   "source": [
    "s3={698,99,5.554,\"sudh\",True,(1,4,7),4+5j}"
   ]
  },
  {
   "cell_type": "code",
   "execution_count": 255,
   "id": "fb7bfaf7-260d-4804-ade4-0fba586f7d04",
   "metadata": {},
   "outputs": [
    {
     "data": {
      "text/plain": [
       "{(1, 4, 7), (4+5j), 5.554, 698, 99, True, 'sudh'}"
      ]
     },
     "execution_count": 255,
     "metadata": {},
     "output_type": "execute_result"
    }
   ],
   "source": [
    "s3"
   ]
  },
  {
   "cell_type": "code",
   "execution_count": 261,
   "id": "847b1a4d-d11a-4206-8657-7dfede91d17b",
   "metadata": {},
   "outputs": [],
   "source": [
    "s4={2,3,6,4,5,2,5,8,4,9,9,1,4,6,4,3,4,3,4,5,6,3,4,'sudh','sudh'}"
   ]
  },
  {
   "cell_type": "code",
   "execution_count": 262,
   "id": "8913efc2-5d9e-456f-ab8e-8937337ca859",
   "metadata": {},
   "outputs": [
    {
     "data": {
      "text/plain": [
       "{1, 2, 3, 4, 5, 6, 8, 9, 'sudh'}"
      ]
     },
     "execution_count": 262,
     "metadata": {},
     "output_type": "execute_result"
    }
   ],
   "source": [
    "s4"
   ]
  },
  {
   "cell_type": "code",
   "execution_count": 263,
   "id": "f3e530f8-3a3a-4062-b22d-574840d0e071",
   "metadata": {},
   "outputs": [],
   "source": [
    "l6=[2,3,6,4,5,2,5,8,4,9,9,1,4,6,4,3,4,3,4,5,6,3,4,'sudh','sudh']"
   ]
  },
  {
   "cell_type": "code",
   "execution_count": 265,
   "id": "7f777bbb-241c-4e1f-8cd1-c0b0165cd0df",
   "metadata": {},
   "outputs": [],
   "source": [
    "l6=list(set(l6))"
   ]
  },
  {
   "cell_type": "code",
   "execution_count": 266,
   "id": "5cb74025-d677-425b-a199-fb03ae15ec1d",
   "metadata": {},
   "outputs": [
    {
     "data": {
      "text/plain": [
       "[1, 2, 3, 4, 5, 6, 8, 9, 'sudh']"
      ]
     },
     "execution_count": 266,
     "metadata": {},
     "output_type": "execute_result"
    }
   ],
   "source": [
    "l6"
   ]
  },
  {
   "cell_type": "code",
   "execution_count": 267,
   "id": "e1cb5f95-ffb9-47fe-957f-9ec0230782a1",
   "metadata": {},
   "outputs": [],
   "source": [
    "s5={4561,16511,5198,56,\"sdfc\",44161,15,61}"
   ]
  },
  {
   "cell_type": "code",
   "execution_count": 268,
   "id": "013d585a-1535-4860-b5c6-9cbb7ddefd07",
   "metadata": {},
   "outputs": [
    {
     "data": {
      "text/plain": [
       "{15, 16511, 44161, 4561, 5198, 56, 61, 'sdfc'}"
      ]
     },
     "execution_count": 268,
     "metadata": {},
     "output_type": "execute_result"
    }
   ],
   "source": [
    "s5"
   ]
  },
  {
   "cell_type": "code",
   "execution_count": 269,
   "id": "5ace525c-1f75-43be-b675-ff5244433275",
   "metadata": {},
   "outputs": [
    {
     "ename": "TypeError",
     "evalue": "'set' object is not subscriptable",
     "output_type": "error",
     "traceback": [
      "\u001b[0;31m---------------------------------------------------------------------------\u001b[0m",
      "\u001b[0;31mTypeError\u001b[0m                                 Traceback (most recent call last)",
      "Cell \u001b[0;32mIn[269], line 1\u001b[0m\n\u001b[0;32m----> 1\u001b[0m \u001b[43ms5\u001b[49m\u001b[43m[\u001b[49m\u001b[38;5;241;43m0\u001b[39;49m\u001b[43m]\u001b[49m\n",
      "\u001b[0;31mTypeError\u001b[0m: 'set' object is not subscriptable"
     ]
    }
   ],
   "source": [
    "s5[0]"
   ]
  },
  {
   "cell_type": "code",
   "execution_count": 270,
   "id": "52bd6900-4713-481d-a0b4-d039781d6e98",
   "metadata": {},
   "outputs": [
    {
     "ename": "TypeError",
     "evalue": "'set' object is not subscriptable",
     "output_type": "error",
     "traceback": [
      "\u001b[0;31m---------------------------------------------------------------------------\u001b[0m",
      "\u001b[0;31mTypeError\u001b[0m                                 Traceback (most recent call last)",
      "Cell \u001b[0;32mIn[270], line 1\u001b[0m\n\u001b[0;32m----> 1\u001b[0m \u001b[43ms5\u001b[49m\u001b[43m[\u001b[49m\u001b[43m:\u001b[49m\u001b[43m:\u001b[49m\u001b[38;5;241;43m-\u001b[39;49m\u001b[38;5;241;43m1\u001b[39;49m\u001b[43m]\u001b[49m\n",
      "\u001b[0;31mTypeError\u001b[0m: 'set' object is not subscriptable"
     ]
    }
   ],
   "source": [
    "s5[::-1]"
   ]
  },
  {
   "cell_type": "code",
   "execution_count": 271,
   "id": "fb353461-7ff7-4b85-b0fa-0e82c65f5afc",
   "metadata": {},
   "outputs": [],
   "source": [
    "s5.add(4)"
   ]
  },
  {
   "cell_type": "code",
   "execution_count": 272,
   "id": "9eefee31-30a5-4e8b-911b-dbf963c5e485",
   "metadata": {},
   "outputs": [
    {
     "data": {
      "text/plain": [
       "{15, 16511, 4, 44161, 4561, 5198, 56, 61, 'sdfc'}"
      ]
     },
     "execution_count": 272,
     "metadata": {},
     "output_type": "execute_result"
    }
   ],
   "source": [
    "s5"
   ]
  },
  {
   "cell_type": "code",
   "execution_count": 273,
   "id": "c4a476d0-c85c-4c92-8ec9-222380aea18e",
   "metadata": {},
   "outputs": [],
   "source": [
    "s5.remove(15)"
   ]
  },
  {
   "cell_type": "code",
   "execution_count": 274,
   "id": "687daf90-2a50-42f1-a8d8-91a6dd05127b",
   "metadata": {},
   "outputs": [
    {
     "data": {
      "text/plain": [
       "{16511, 4, 44161, 4561, 5198, 56, 61, 'sdfc'}"
      ]
     },
     "execution_count": 274,
     "metadata": {},
     "output_type": "execute_result"
    }
   ],
   "source": [
    "s5"
   ]
  },
  {
   "cell_type": "code",
   "execution_count": null,
   "id": "5453c8a1-a739-4f78-b46d-1410a01f96fa",
   "metadata": {},
   "outputs": [],
   "source": []
  }
 ],
 "metadata": {
  "kernelspec": {
   "display_name": "Python 3 (ipykernel)",
   "language": "python",
   "name": "python3"
  },
  "language_info": {
   "codemirror_mode": {
    "name": "ipython",
    "version": 3
   },
   "file_extension": ".py",
   "mimetype": "text/x-python",
   "name": "python",
   "nbconvert_exporter": "python",
   "pygments_lexer": "ipython3",
   "version": "3.10.8"
  }
 },
 "nbformat": 4,
 "nbformat_minor": 5
}
